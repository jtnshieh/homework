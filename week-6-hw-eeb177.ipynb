{
 "cells": [
  {
   "cell_type": "markdown",
   "metadata": {},
   "source": [
    "[Python syntax](/home/eeb177-student/Desktop/eeb-177/homework/week-6-screenshots/python_syntax.png)"
   ]
  },
  {
   "cell_type": "markdown",
   "metadata": {},
   "source": [
    "[String and console output](/home/eeb177-student/Desktop/eeb-177/homework/week-6-screenshots/string_output.png)"
   ]
  },
  {
   "cell_type": "markdown",
   "metadata": {
    "collapsed": true
   },
   "source": [
    "[Conditionals and control flow](/home/eeb177-student/Desktop/eeb-177/homework/week-6-screenshots/conditionals.png)"
   ]
  },
  {
   "cell_type": "markdown",
   "metadata": {},
   "source": [
    "[Functions](/home/eeb177-student/Desktop/eeb-177/homework/week-6-screenshots/functions.png)"
   ]
  },
  {
   "cell_type": "markdown",
   "metadata": {},
   "source": [
    "[Python lists and dictionaries](/home/eeb177-student/Desktop/eeb-177/homework/week-6-screenshots/lists_and_dictionaries.png)"
   ]
  },
  {
   "cell_type": "markdown",
   "metadata": {},
   "source": [
    "[Lists and functions](/home/eeb177-student/Desktop/eeb-177/homework/week-6-screenshots/lists_and_functions.png)"
   ]
  },
  {
   "cell_type": "markdown",
   "metadata": {},
   "source": [
    "[Loops](/home/eeb177-student/Desktop/eeb-177/homework/week-6-screenshots/loops.png)"
   ]
  },
  {
   "cell_type": "markdown",
   "metadata": {},
   "source": [
    "[Practice makes perfect](/home/eeb177-student/Desktop/eeb-177/homework/week-6-screenshots/practice_makes_perfect.png)"
   ]
  },
  {
   "cell_type": "code",
   "execution_count": null,
   "metadata": {
    "collapsed": true
   },
   "outputs": [],
   "source": []
  }
 ],
 "metadata": {
  "anaconda-cloud": {},
  "kernelspec": {
   "display_name": "Python [conda root]",
   "language": "python",
   "name": "conda-root-py"
  },
  "language_info": {
   "codemirror_mode": {
    "name": "ipython",
    "version": 3
   },
   "file_extension": ".py",
   "mimetype": "text/x-python",
   "name": "python",
   "nbconvert_exporter": "python",
   "pygments_lexer": "ipython3",
   "version": "3.5.2"
  }
 },
 "nbformat": 4,
 "nbformat_minor": 2
}
