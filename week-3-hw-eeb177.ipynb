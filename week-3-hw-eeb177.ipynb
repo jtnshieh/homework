{
 "cells": [
  {
   "cell_type": "code",
   "execution_count": 1,
   "metadata": {
    "collapsed": true
   },
   "outputs": [],
   "source": [
    "my_dna = \"ACTGATCGATTACGTATAGTATTTGCTATCATACATATATATCGATGCGTTCAT\"\n",
    "length = len(my_dna)\n",
    "a_count = my_dna.count(\"A\")\n",
    "t_count = my_dna.count(\"T\")"
   ]
  },
  {
   "cell_type": "code",
   "execution_count": 2,
   "metadata": {
    "collapsed": false
   },
   "outputs": [
    {
     "name": "stdout",
     "output_type": "stream",
     "text": [
      "54\n",
      "16\n",
      "21\n"
     ]
    }
   ],
   "source": [
    "print(str(length))\n",
    "print(str(a_count))\n",
    "print(str(t_count))"
   ]
  },
  {
   "cell_type": "code",
   "execution_count": 3,
   "metadata": {
    "collapsed": false
   },
   "outputs": [
    {
     "name": "stdout",
     "output_type": "stream",
     "text": [
      "4\n",
      "1\n",
      "1\n"
     ]
    }
   ],
   "source": [
    "test_dna = \"ATGC\"\n",
    "length = len(test_dna)\n",
    "a_count = test_dna.count(\"A\")\n",
    "t_count = test_dna.count(\"T\")\n",
    "\n",
    "print(str(length))\n",
    "print(str(a_count))\n",
    "print(str(t_count))"
   ]
  },
  {
   "cell_type": "code",
   "execution_count": 5,
   "metadata": {
    "collapsed": false
   },
   "outputs": [
    {
     "name": "stdout",
     "output_type": "stream",
     "text": [
      "at_content is: 1.25\n"
     ]
    }
   ],
   "source": [
    "test_dna = \"ATGC\"\n",
    "length = len(test_dna)\n",
    "a_count = test_dna.count(\"A\")\n",
    "t_count = test_dna.count(\"T\")\n",
    "\n",
    "at_content = a_count + t_count / length\n",
    "print(\"at_content is: \" + str(at_content))"
   ]
  },
  {
   "cell_type": "code",
   "execution_count": 6,
   "metadata": {
    "collapsed": false
   },
   "outputs": [
    {
     "name": "stdout",
     "output_type": "stream",
     "text": [
      "at_content is: 0.5\n"
     ]
    }
   ],
   "source": [
    "at_content = (a_count + t_count) / length\n",
    "print(\"at_content is: \" + str(at_content))"
   ]
  },
  {
   "cell_type": "code",
   "execution_count": 7,
   "metadata": {
    "collapsed": false
   },
   "outputs": [
    {
     "name": "stdout",
     "output_type": "stream",
     "text": [
      "at_content is: 0.6851851851851852\n"
     ]
    }
   ],
   "source": [
    "my_dna = \"ACTGATCGATTACGTATAGTATTTGCTATCATACATATATATCGATGCGTTCAT\"\n",
    "length = len(my_dna)\n",
    "a_count = my_dna.count(\"A\")\n",
    "t_count = my_dna.count(\"T\")\n",
    "\n",
    "at_content = (a_count + t_count) / length\n",
    "print(\"at_content is: \" + str(at_content))"
   ]
  },
  {
   "cell_type": "code",
   "execution_count": null,
   "metadata": {
    "collapsed": true
   },
   "outputs": [],
   "source": []
  }
 ],
 "metadata": {
  "anaconda-cloud": {},
  "kernelspec": {
   "display_name": "Python [default]",
   "language": "python",
   "name": "python3"
  },
  "language_info": {
   "codemirror_mode": {
    "name": "ipython",
    "version": 3
   },
   "file_extension": ".py",
   "mimetype": "text/x-python",
   "name": "python",
   "nbconvert_exporter": "python",
   "pygments_lexer": "ipython3",
   "version": "3.5.2"
  }
 },
 "nbformat": 4,
 "nbformat_minor": 2
}
